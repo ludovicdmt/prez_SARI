{
 "cells": [
  {
   "cell_type": "markdown",
   "metadata": {
    "_cell_guid": "59b5a974-1bd8-f13a-c60f-6212d8690227",
    "slideshow": {
     "slide_type": "slide"
    }
   },
   "source": [
    "# Classification de feuilles d'arbres\n",
    "\n",
    "C'est ici un challenge Kaggle (https://www.kaggle.com/c/leaf-classification/) dont l'objectif est d'identifier le type de plante (99 au total) à partir d'images de feuilles et de caractéristiques extraites.  \n",
    "Pour ça on va utiliser du Deep-Learning avec Keras.  \n",
    "<img src=\"files/keras.png\" alt=\"drawing\" width=\"500\">"
   ]
  },
  {
   "cell_type": "markdown",
   "metadata": {
    "slideshow": {
     "slide_type": "subslide"
    }
   },
   "source": [
    "Crédits : https://www.kaggle.com/abhmul/keras-convnet-lb-0-0052-w-visualization"
   ]
  },
  {
   "cell_type": "markdown",
   "metadata": {
    "slideshow": {
     "slide_type": "slide"
    }
   },
   "source": [
    "### Import des packages que l'on va utiliser"
   ]
  },
  {
   "cell_type": "code",
   "execution_count": 1,
   "metadata": {
    "slideshow": {
     "slide_type": "subslide"
    }
   },
   "outputs": [
    {
     "name": "stderr",
     "output_type": "stream",
     "text": [
      "Using TensorFlow backend.\n"
     ]
    }
   ],
   "source": [
    "%matplotlib inline\n",
    "import os\n",
    "\n",
    "import numpy as np\n",
    "import matplotlib.pyplot as plt\n",
    "import seaborn as sns\n",
    "import pandas as pd\n",
    "import time\n",
    "import pickle\n",
    "import cv2\n",
    "import warnings\n",
    "from sklearn.preprocessing import LabelEncoder\n",
    "from sklearn.preprocessing import StandardScaler\n",
    "from sklearn.model_selection import StratifiedShuffleSplit\n",
    "from sklearn.linear_model import LogisticRegressionCV, LogisticRegression\n",
    "from sklearn.metrics import accuracy_score\n",
    "from tqdm import tqdm_notebook\n",
    "\n",
    "# Keras stuff\n",
    "from keras.utils.np_utils import to_categorical\n",
    "from keras.preprocessing.image import img_to_array, load_img\n",
    "from keras.callbacks import TensorBoard"
   ]
  },
  {
   "cell_type": "code",
   "execution_count": 2,
   "metadata": {
    "slideshow": {
     "slide_type": "subslide"
    }
   },
   "outputs": [
    {
     "name": "stdout",
     "output_type": "stream",
     "text": [
      "The keras version is 2.0.8.\n",
      "The tensorflow version is 1.4.0.\n",
      "The scikit-learn version is 0.21.2.\n"
     ]
    }
   ],
   "source": [
    "import keras\n",
    "print('The keras version is {}.'.format(keras.__version__))\n",
    "import tensorflow as tf\n",
    "print('The tensorflow version is {}.'.format(tf.VERSION))\n",
    "import sklearn\n",
    "print('The scikit-learn version is {}.'.format(sklearn.__version__))"
   ]
  },
  {
   "cell_type": "markdown",
   "metadata": {
    "slideshow": {
     "slide_type": "skip"
    }
   },
   "source": [
    "### On fixe certains paramètres et l'aléatoire"
   ]
  },
  {
   "cell_type": "code",
   "execution_count": 3,
   "metadata": {
    "slideshow": {
     "slide_type": "skip"
    }
   },
   "outputs": [],
   "source": [
    "root = os.getcwd()\n",
    "np.random.seed(25)\n",
    "split_random_state = 5\n",
    "split = .85"
   ]
  },
  {
   "cell_type": "markdown",
   "metadata": {
    "slideshow": {
     "slide_type": "slide"
    }
   },
   "source": [
    "### Chargement des données"
   ]
  },
  {
   "cell_type": "code",
   "execution_count": 4,
   "metadata": {
    "slideshow": {
     "slide_type": "skip"
    }
   },
   "outputs": [],
   "source": [
    "def cross_entropy(predictions, targets, epsilon=1e-12):\n",
    "    \"\"\"\n",
    "    Computes cross entropy between targets (encoded as one-hot vectors)\n",
    "    and predictions. \n",
    "    Input: predictions (N, k) ndarray\n",
    "           targets (N, k) ndarray        \n",
    "    Returns: scalar\n",
    "    \"\"\"\n",
    "    predictions = np.clip(predictions, epsilon, 1. - epsilon)\n",
    "    N = predictions.shape[0]\n",
    "    ce = -np.sum(targets*np.log(predictions+1e-9))/N\n",
    "    return ce"
   ]
  },
  {
   "cell_type": "code",
   "execution_count": 4,
   "metadata": {
    "_cell_guid": "f1761cd9-7522-3d88-0d4e-c7fa6c1eafa9",
    "slideshow": {
     "slide_type": "skip"
    }
   },
   "outputs": [],
   "source": [
    "def load_numeric_training(standardize=True):\n",
    "    \"\"\"\n",
    "    Loads the pre-extracted features for the training data\n",
    "    and returns a tuple of the image ids, the data, and the labels\n",
    "    \"\"\"\n",
    "    # Read data from the CSV file\n",
    "    data = pd.read_csv(os.path.join(root, 'data/train.csv'))\n",
    "    ID = data.pop('id')\n",
    "\n",
    "    # Since the labels are textual, so we encode them categorically\n",
    "    y = data.pop('species')\n",
    "    y = LabelEncoder().fit(y).transform(y)\n",
    "    # standardize the data by setting the mean to 0 and std to 1\n",
    "    X = StandardScaler().fit(data).transform(data) if standardize else data.values\n",
    "\n",
    "    return ID, X, y\n",
    "\n",
    "\n",
    "def load_numeric_test(standardize=True):\n",
    "    \"\"\"\n",
    "    Loads the pre-extracted features for the test data\n",
    "    and returns a tuple of the image ids, the data\n",
    "    \"\"\"\n",
    "    test = pd.read_csv(os.path.join(root, 'data/test.csv'))\n",
    "    ID = test.pop('id')\n",
    "    # standardize the data by setting the mean to 0 and std to 1\n",
    "    test = StandardScaler().fit(test).transform(test) if standardize else test.values\n",
    "    return ID, test\n",
    "\n",
    "\n",
    "def resize_img(img, max_dim=128):\n",
    "    \"\"\"\n",
    "    Resize the image to so the maximum side is of size max_dim\n",
    "    Returns a new image of the right size\n",
    "    \"\"\"\n",
    "    # Get the axis with the larger dimension\n",
    "    max_ax = max((0, 1), key=lambda i: img.size[i])\n",
    "    # Scale both axes so the image's largest dimension is max_dim\n",
    "    scale = max_dim / float(img.size[max_ax])\n",
    "    return img.resize((int(img.size[0] * scale), int(img.size[1] * scale)))\n",
    "\n",
    "\n",
    "def load_image_data(ids, max_dim=128, center=True):\n",
    "    \"\"\"\n",
    "    Takes as input an array of image ids and loads the images as numpy\n",
    "    arrays with the images resized so the longest side is max-dim length.\n",
    "    If center is True, then will place the image in the center of\n",
    "    the output array, otherwise it will be placed at the top-left corner.\n",
    "    \"\"\"\n",
    "    # Initialize the output array\n",
    "    # NOTE: Theano users comment line below and\n",
    "    X = np.empty((len(ids), max_dim, max_dim, 1))\n",
    "    # X = np.empty((len(ids), 1, max_dim, max_dim)) # uncomment this\n",
    "    for i, idee in enumerate(tqdm_notebook(list(ids))):\n",
    "        # Turn the image into an array\n",
    "        #x = resize_img(load_img(os.path.join(root, 'data/images', str(idee) + '.jpg'), grayscale=True), max_dim=max_dim)\n",
    "        \n",
    "        x = load_img(os.path.join(root, 'data/images', str(idee) + '.jpg'), grayscale=True)     \n",
    "        x = np.asarray(x, dtype=np.uint8)        \n",
    "        x = cv2.resize(x, (max_dim, max_dim), interpolation=cv2.INTER_LINEAR)\n",
    "        #x = cv2.Canny(x,100,200) # Les 100 et 200 sont des seuils du filtre à régler\n",
    "        x = img_to_array(x)\n",
    "        \n",
    "        # Get the corners of the bounding box for the image\n",
    "       \n",
    "        length = x.shape[0]\n",
    "        width = x.shape[1]\n",
    "        \n",
    "        if center:\n",
    "            h1 = int((max_dim - length) / 2)\n",
    "            h2 = h1 + length\n",
    "            w1 = int((max_dim - width) / 2)\n",
    "            w2 = w1 + width\n",
    "        else:\n",
    "            h1, w1 = 0, 0\n",
    "            h2, w2 = (length, width)\n",
    "        # Insert into image matrix\n",
    "        X[i, h1:h2, w1:w2, 0:1] = x\n",
    "        \n",
    "    # Scale the array values so they are between 0 and 1\n",
    "    return np.around(X / 255.0)\n",
    "\n",
    "\n",
    "def load_train_data(split=split, random_state=None):\n",
    "    \"\"\"\n",
    "    Loads the pre-extracted feature and image training data and\n",
    "    splits them into training and cross-validation.\n",
    "    Returns one tuple for the training data and one for the validation\n",
    "    data. Each tuple is in the order pre-extracted features, images,\n",
    "    and labels.\n",
    "    \"\"\"\n",
    "    # Load the pre-extracted features\n",
    "    ID, X_num_tr, y = load_numeric_training()\n",
    "    # Load the image data\n",
    "    X_img_tr = load_image_data(ID)\n",
    "    # Split them into validation and cross-validation\n",
    "    sss = StratifiedShuffleSplit(n_splits=1, train_size=split, random_state=random_state)\n",
    "    train_ind, test_ind = next(sss.split(X_num_tr, y))\n",
    "    X_num_val, X_img_val, y_val = X_num_tr[test_ind], X_img_tr[test_ind], y[test_ind]\n",
    "    X_num_tr, X_img_tr, y_tr = X_num_tr[train_ind], X_img_tr[train_ind], y[train_ind]\n",
    "    return (X_num_tr, X_img_tr, y_tr), (X_num_val, X_img_val, y_val)\n",
    "\n",
    "\n",
    "def load_test_data():\n",
    "    \"\"\"\n",
    "    Loads the pre-extracted feature and image test data.\n",
    "    Returns a tuple in the order ids, pre-extracted features,\n",
    "    and images.\n",
    "    \"\"\"\n",
    "    # Load the pre-extracted features\n",
    "    ID, X_num_te = load_numeric_test()\n",
    "    # Load the image data\n",
    "    X_img_te = load_image_data(ID)\n",
    "    return ID, X_num_te, X_img_te"
   ]
  },
  {
   "cell_type": "code",
   "execution_count": 6,
   "metadata": {
    "slideshow": {
     "slide_type": "subslide"
    }
   },
   "outputs": [
    {
     "name": "stdout",
     "output_type": "stream",
     "text": [
      "Loading the training data...\n"
     ]
    },
    {
     "data": {
      "application/vnd.jupyter.widget-view+json": {
       "model_id": "92868e4f9c1d4dd0910a280264d24a6e",
       "version_major": 2,
       "version_minor": 0
      },
      "text/plain": [
       "HBox(children=(IntProgress(value=0, max=990), HTML(value='')))"
      ]
     },
     "metadata": {},
     "output_type": "display_data"
    },
    {
     "name": "stdout",
     "output_type": "stream",
     "text": [
      "\n",
      "Training data loaded!\n"
     ]
    }
   ],
   "source": [
    "print('Loading the training data...')\n",
    "(X_num_tr, X_img_tr, y_tr), (X_num_val, X_img_val, y_val) = load_train_data(random_state=split_random_state)\n",
    "y_tr_cat = to_categorical(y_tr)\n",
    "y_val_cat = to_categorical(y_val)\n",
    "print('Training data loaded!')"
   ]
  },
  {
   "cell_type": "markdown",
   "metadata": {
    "slideshow": {
     "slide_type": "slide"
    }
   },
   "source": [
    "## Les features numériques"
   ]
  },
  {
   "cell_type": "code",
   "execution_count": 7,
   "metadata": {
    "slideshow": {
     "slide_type": "subslide"
    }
   },
   "outputs": [
    {
     "data": {
      "text/html": [
       "<div>\n",
       "<style scoped>\n",
       "    .dataframe tbody tr th:only-of-type {\n",
       "        vertical-align: middle;\n",
       "    }\n",
       "\n",
       "    .dataframe tbody tr th {\n",
       "        vertical-align: top;\n",
       "    }\n",
       "\n",
       "    .dataframe thead th {\n",
       "        text-align: right;\n",
       "    }\n",
       "</style>\n",
       "<table border=\"1\" class=\"dataframe\">\n",
       "  <thead>\n",
       "    <tr style=\"text-align: right;\">\n",
       "      <th></th>\n",
       "      <th>species</th>\n",
       "      <th>margin1</th>\n",
       "      <th>margin2</th>\n",
       "      <th>margin3</th>\n",
       "      <th>margin4</th>\n",
       "      <th>margin5</th>\n",
       "      <th>margin6</th>\n",
       "      <th>margin7</th>\n",
       "      <th>margin8</th>\n",
       "      <th>margin9</th>\n",
       "      <th>...</th>\n",
       "      <th>texture55</th>\n",
       "      <th>texture56</th>\n",
       "      <th>texture57</th>\n",
       "      <th>texture58</th>\n",
       "      <th>texture59</th>\n",
       "      <th>texture60</th>\n",
       "      <th>texture61</th>\n",
       "      <th>texture62</th>\n",
       "      <th>texture63</th>\n",
       "      <th>texture64</th>\n",
       "    </tr>\n",
       "  </thead>\n",
       "  <tbody>\n",
       "    <tr>\n",
       "      <th>0</th>\n",
       "      <td>Acer_Opalus</td>\n",
       "      <td>0.007812</td>\n",
       "      <td>0.023438</td>\n",
       "      <td>0.023438</td>\n",
       "      <td>0.003906</td>\n",
       "      <td>0.011719</td>\n",
       "      <td>0.009766</td>\n",
       "      <td>0.027344</td>\n",
       "      <td>0.0</td>\n",
       "      <td>0.001953</td>\n",
       "      <td>...</td>\n",
       "      <td>0.007812</td>\n",
       "      <td>0.000000</td>\n",
       "      <td>0.002930</td>\n",
       "      <td>0.002930</td>\n",
       "      <td>0.035156</td>\n",
       "      <td>0.0</td>\n",
       "      <td>0.0</td>\n",
       "      <td>0.004883</td>\n",
       "      <td>0.000000</td>\n",
       "      <td>0.025391</td>\n",
       "    </tr>\n",
       "    <tr>\n",
       "      <th>1</th>\n",
       "      <td>Pterocarya_Stenoptera</td>\n",
       "      <td>0.005859</td>\n",
       "      <td>0.000000</td>\n",
       "      <td>0.031250</td>\n",
       "      <td>0.015625</td>\n",
       "      <td>0.025391</td>\n",
       "      <td>0.001953</td>\n",
       "      <td>0.019531</td>\n",
       "      <td>0.0</td>\n",
       "      <td>0.000000</td>\n",
       "      <td>...</td>\n",
       "      <td>0.000977</td>\n",
       "      <td>0.000000</td>\n",
       "      <td>0.000000</td>\n",
       "      <td>0.000977</td>\n",
       "      <td>0.023438</td>\n",
       "      <td>0.0</td>\n",
       "      <td>0.0</td>\n",
       "      <td>0.000977</td>\n",
       "      <td>0.039062</td>\n",
       "      <td>0.022461</td>\n",
       "    </tr>\n",
       "    <tr>\n",
       "      <th>2</th>\n",
       "      <td>Quercus_Hartwissiana</td>\n",
       "      <td>0.005859</td>\n",
       "      <td>0.009766</td>\n",
       "      <td>0.019531</td>\n",
       "      <td>0.007812</td>\n",
       "      <td>0.003906</td>\n",
       "      <td>0.005859</td>\n",
       "      <td>0.068359</td>\n",
       "      <td>0.0</td>\n",
       "      <td>0.000000</td>\n",
       "      <td>...</td>\n",
       "      <td>0.154300</td>\n",
       "      <td>0.000000</td>\n",
       "      <td>0.005859</td>\n",
       "      <td>0.000977</td>\n",
       "      <td>0.007812</td>\n",
       "      <td>0.0</td>\n",
       "      <td>0.0</td>\n",
       "      <td>0.000000</td>\n",
       "      <td>0.020508</td>\n",
       "      <td>0.002930</td>\n",
       "    </tr>\n",
       "    <tr>\n",
       "      <th>3</th>\n",
       "      <td>Tilia_Tomentosa</td>\n",
       "      <td>0.000000</td>\n",
       "      <td>0.003906</td>\n",
       "      <td>0.023438</td>\n",
       "      <td>0.005859</td>\n",
       "      <td>0.021484</td>\n",
       "      <td>0.019531</td>\n",
       "      <td>0.023438</td>\n",
       "      <td>0.0</td>\n",
       "      <td>0.013672</td>\n",
       "      <td>...</td>\n",
       "      <td>0.000000</td>\n",
       "      <td>0.000977</td>\n",
       "      <td>0.000000</td>\n",
       "      <td>0.000000</td>\n",
       "      <td>0.020508</td>\n",
       "      <td>0.0</td>\n",
       "      <td>0.0</td>\n",
       "      <td>0.017578</td>\n",
       "      <td>0.000000</td>\n",
       "      <td>0.047852</td>\n",
       "    </tr>\n",
       "    <tr>\n",
       "      <th>4</th>\n",
       "      <td>Quercus_Variabilis</td>\n",
       "      <td>0.005859</td>\n",
       "      <td>0.003906</td>\n",
       "      <td>0.048828</td>\n",
       "      <td>0.009766</td>\n",
       "      <td>0.013672</td>\n",
       "      <td>0.015625</td>\n",
       "      <td>0.005859</td>\n",
       "      <td>0.0</td>\n",
       "      <td>0.000000</td>\n",
       "      <td>...</td>\n",
       "      <td>0.096680</td>\n",
       "      <td>0.000000</td>\n",
       "      <td>0.021484</td>\n",
       "      <td>0.000000</td>\n",
       "      <td>0.000000</td>\n",
       "      <td>0.0</td>\n",
       "      <td>0.0</td>\n",
       "      <td>0.000000</td>\n",
       "      <td>0.000000</td>\n",
       "      <td>0.031250</td>\n",
       "    </tr>\n",
       "  </tbody>\n",
       "</table>\n",
       "<p>5 rows × 193 columns</p>\n",
       "</div>"
      ],
      "text/plain": [
       "                 species   margin1   margin2   margin3   margin4   margin5  \\\n",
       "0            Acer_Opalus  0.007812  0.023438  0.023438  0.003906  0.011719   \n",
       "1  Pterocarya_Stenoptera  0.005859  0.000000  0.031250  0.015625  0.025391   \n",
       "2   Quercus_Hartwissiana  0.005859  0.009766  0.019531  0.007812  0.003906   \n",
       "3        Tilia_Tomentosa  0.000000  0.003906  0.023438  0.005859  0.021484   \n",
       "4     Quercus_Variabilis  0.005859  0.003906  0.048828  0.009766  0.013672   \n",
       "\n",
       "    margin6   margin7  margin8   margin9    ...      texture55  texture56  \\\n",
       "0  0.009766  0.027344      0.0  0.001953    ...       0.007812   0.000000   \n",
       "1  0.001953  0.019531      0.0  0.000000    ...       0.000977   0.000000   \n",
       "2  0.005859  0.068359      0.0  0.000000    ...       0.154300   0.000000   \n",
       "3  0.019531  0.023438      0.0  0.013672    ...       0.000000   0.000977   \n",
       "4  0.015625  0.005859      0.0  0.000000    ...       0.096680   0.000000   \n",
       "\n",
       "   texture57  texture58  texture59  texture60  texture61  texture62  \\\n",
       "0   0.002930   0.002930   0.035156        0.0        0.0   0.004883   \n",
       "1   0.000000   0.000977   0.023438        0.0        0.0   0.000977   \n",
       "2   0.005859   0.000977   0.007812        0.0        0.0   0.000000   \n",
       "3   0.000000   0.000000   0.020508        0.0        0.0   0.017578   \n",
       "4   0.021484   0.000000   0.000000        0.0        0.0   0.000000   \n",
       "\n",
       "   texture63  texture64  \n",
       "0   0.000000   0.025391  \n",
       "1   0.039062   0.022461  \n",
       "2   0.020508   0.002930  \n",
       "3   0.000000   0.047852  \n",
       "4   0.000000   0.031250  \n",
       "\n",
       "[5 rows x 193 columns]"
      ]
     },
     "execution_count": 7,
     "metadata": {},
     "output_type": "execute_result"
    }
   ],
   "source": [
    "train = pd.read_csv(os.path.join(root, 'data/train.csv'))\n",
    "train.pop('id')\n",
    "train.head()"
   ]
  },
  {
   "cell_type": "code",
   "execution_count": 8,
   "metadata": {
    "slideshow": {
     "slide_type": "subslide"
    }
   },
   "outputs": [
    {
     "data": {
      "text/html": [
       "<div>\n",
       "<style scoped>\n",
       "    .dataframe tbody tr th:only-of-type {\n",
       "        vertical-align: middle;\n",
       "    }\n",
       "\n",
       "    .dataframe tbody tr th {\n",
       "        vertical-align: top;\n",
       "    }\n",
       "\n",
       "    .dataframe thead th {\n",
       "        text-align: right;\n",
       "    }\n",
       "</style>\n",
       "<table border=\"1\" class=\"dataframe\">\n",
       "  <thead>\n",
       "    <tr style=\"text-align: right;\">\n",
       "      <th></th>\n",
       "      <th>margin1</th>\n",
       "      <th>margin2</th>\n",
       "      <th>margin3</th>\n",
       "      <th>margin4</th>\n",
       "      <th>margin5</th>\n",
       "      <th>margin6</th>\n",
       "      <th>margin7</th>\n",
       "      <th>margin8</th>\n",
       "      <th>margin9</th>\n",
       "      <th>margin10</th>\n",
       "      <th>...</th>\n",
       "      <th>texture55</th>\n",
       "      <th>texture56</th>\n",
       "      <th>texture57</th>\n",
       "      <th>texture58</th>\n",
       "      <th>texture59</th>\n",
       "      <th>texture60</th>\n",
       "      <th>texture61</th>\n",
       "      <th>texture62</th>\n",
       "      <th>texture63</th>\n",
       "      <th>texture64</th>\n",
       "    </tr>\n",
       "  </thead>\n",
       "  <tbody>\n",
       "    <tr>\n",
       "      <th>count</th>\n",
       "      <td>990.000000</td>\n",
       "      <td>990.000000</td>\n",
       "      <td>990.000000</td>\n",
       "      <td>990.000000</td>\n",
       "      <td>990.000000</td>\n",
       "      <td>990.000000</td>\n",
       "      <td>990.000000</td>\n",
       "      <td>990.000000</td>\n",
       "      <td>990.000000</td>\n",
       "      <td>990.000000</td>\n",
       "      <td>...</td>\n",
       "      <td>990.000000</td>\n",
       "      <td>990.000000</td>\n",
       "      <td>990.000000</td>\n",
       "      <td>990.000000</td>\n",
       "      <td>990.000000</td>\n",
       "      <td>990.000000</td>\n",
       "      <td>990.000000</td>\n",
       "      <td>990.000000</td>\n",
       "      <td>990.000000</td>\n",
       "      <td>990.000000</td>\n",
       "    </tr>\n",
       "    <tr>\n",
       "      <th>mean</th>\n",
       "      <td>0.017412</td>\n",
       "      <td>0.028539</td>\n",
       "      <td>0.031988</td>\n",
       "      <td>0.023280</td>\n",
       "      <td>0.014264</td>\n",
       "      <td>0.038579</td>\n",
       "      <td>0.019202</td>\n",
       "      <td>0.001083</td>\n",
       "      <td>0.007167</td>\n",
       "      <td>0.018639</td>\n",
       "      <td>...</td>\n",
       "      <td>0.036501</td>\n",
       "      <td>0.005024</td>\n",
       "      <td>0.015944</td>\n",
       "      <td>0.011586</td>\n",
       "      <td>0.016108</td>\n",
       "      <td>0.014017</td>\n",
       "      <td>0.002688</td>\n",
       "      <td>0.020291</td>\n",
       "      <td>0.008989</td>\n",
       "      <td>0.019420</td>\n",
       "    </tr>\n",
       "    <tr>\n",
       "      <th>std</th>\n",
       "      <td>0.019739</td>\n",
       "      <td>0.038855</td>\n",
       "      <td>0.025847</td>\n",
       "      <td>0.028411</td>\n",
       "      <td>0.018390</td>\n",
       "      <td>0.052030</td>\n",
       "      <td>0.017511</td>\n",
       "      <td>0.002743</td>\n",
       "      <td>0.008933</td>\n",
       "      <td>0.016071</td>\n",
       "      <td>...</td>\n",
       "      <td>0.063403</td>\n",
       "      <td>0.019321</td>\n",
       "      <td>0.023214</td>\n",
       "      <td>0.025040</td>\n",
       "      <td>0.015335</td>\n",
       "      <td>0.060151</td>\n",
       "      <td>0.011415</td>\n",
       "      <td>0.039040</td>\n",
       "      <td>0.013791</td>\n",
       "      <td>0.022768</td>\n",
       "    </tr>\n",
       "    <tr>\n",
       "      <th>min</th>\n",
       "      <td>0.000000</td>\n",
       "      <td>0.000000</td>\n",
       "      <td>0.000000</td>\n",
       "      <td>0.000000</td>\n",
       "      <td>0.000000</td>\n",
       "      <td>0.000000</td>\n",
       "      <td>0.000000</td>\n",
       "      <td>0.000000</td>\n",
       "      <td>0.000000</td>\n",
       "      <td>0.000000</td>\n",
       "      <td>...</td>\n",
       "      <td>0.000000</td>\n",
       "      <td>0.000000</td>\n",
       "      <td>0.000000</td>\n",
       "      <td>0.000000</td>\n",
       "      <td>0.000000</td>\n",
       "      <td>0.000000</td>\n",
       "      <td>0.000000</td>\n",
       "      <td>0.000000</td>\n",
       "      <td>0.000000</td>\n",
       "      <td>0.000000</td>\n",
       "    </tr>\n",
       "    <tr>\n",
       "      <th>25%</th>\n",
       "      <td>0.001953</td>\n",
       "      <td>0.001953</td>\n",
       "      <td>0.013672</td>\n",
       "      <td>0.005859</td>\n",
       "      <td>0.001953</td>\n",
       "      <td>0.000000</td>\n",
       "      <td>0.005859</td>\n",
       "      <td>0.000000</td>\n",
       "      <td>0.001953</td>\n",
       "      <td>0.005859</td>\n",
       "      <td>...</td>\n",
       "      <td>0.000000</td>\n",
       "      <td>0.000000</td>\n",
       "      <td>0.000977</td>\n",
       "      <td>0.000000</td>\n",
       "      <td>0.004883</td>\n",
       "      <td>0.000000</td>\n",
       "      <td>0.000000</td>\n",
       "      <td>0.000000</td>\n",
       "      <td>0.000000</td>\n",
       "      <td>0.000977</td>\n",
       "    </tr>\n",
       "    <tr>\n",
       "      <th>50%</th>\n",
       "      <td>0.009766</td>\n",
       "      <td>0.011719</td>\n",
       "      <td>0.025391</td>\n",
       "      <td>0.013672</td>\n",
       "      <td>0.007812</td>\n",
       "      <td>0.015625</td>\n",
       "      <td>0.015625</td>\n",
       "      <td>0.000000</td>\n",
       "      <td>0.005859</td>\n",
       "      <td>0.015625</td>\n",
       "      <td>...</td>\n",
       "      <td>0.004883</td>\n",
       "      <td>0.000000</td>\n",
       "      <td>0.005859</td>\n",
       "      <td>0.000977</td>\n",
       "      <td>0.012695</td>\n",
       "      <td>0.000000</td>\n",
       "      <td>0.000000</td>\n",
       "      <td>0.003906</td>\n",
       "      <td>0.002930</td>\n",
       "      <td>0.011719</td>\n",
       "    </tr>\n",
       "    <tr>\n",
       "      <th>75%</th>\n",
       "      <td>0.025391</td>\n",
       "      <td>0.041016</td>\n",
       "      <td>0.044922</td>\n",
       "      <td>0.029297</td>\n",
       "      <td>0.017578</td>\n",
       "      <td>0.056153</td>\n",
       "      <td>0.029297</td>\n",
       "      <td>0.000000</td>\n",
       "      <td>0.007812</td>\n",
       "      <td>0.027344</td>\n",
       "      <td>...</td>\n",
       "      <td>0.043701</td>\n",
       "      <td>0.000000</td>\n",
       "      <td>0.022217</td>\n",
       "      <td>0.009766</td>\n",
       "      <td>0.021484</td>\n",
       "      <td>0.000000</td>\n",
       "      <td>0.000000</td>\n",
       "      <td>0.023438</td>\n",
       "      <td>0.012695</td>\n",
       "      <td>0.029297</td>\n",
       "    </tr>\n",
       "    <tr>\n",
       "      <th>max</th>\n",
       "      <td>0.087891</td>\n",
       "      <td>0.205080</td>\n",
       "      <td>0.156250</td>\n",
       "      <td>0.169920</td>\n",
       "      <td>0.111330</td>\n",
       "      <td>0.310550</td>\n",
       "      <td>0.091797</td>\n",
       "      <td>0.031250</td>\n",
       "      <td>0.076172</td>\n",
       "      <td>0.097656</td>\n",
       "      <td>...</td>\n",
       "      <td>0.429690</td>\n",
       "      <td>0.202150</td>\n",
       "      <td>0.172850</td>\n",
       "      <td>0.200200</td>\n",
       "      <td>0.106450</td>\n",
       "      <td>0.578130</td>\n",
       "      <td>0.151370</td>\n",
       "      <td>0.375980</td>\n",
       "      <td>0.086914</td>\n",
       "      <td>0.141600</td>\n",
       "    </tr>\n",
       "  </tbody>\n",
       "</table>\n",
       "<p>8 rows × 192 columns</p>\n",
       "</div>"
      ],
      "text/plain": [
       "          margin1     margin2     margin3     margin4     margin5     margin6  \\\n",
       "count  990.000000  990.000000  990.000000  990.000000  990.000000  990.000000   \n",
       "mean     0.017412    0.028539    0.031988    0.023280    0.014264    0.038579   \n",
       "std      0.019739    0.038855    0.025847    0.028411    0.018390    0.052030   \n",
       "min      0.000000    0.000000    0.000000    0.000000    0.000000    0.000000   \n",
       "25%      0.001953    0.001953    0.013672    0.005859    0.001953    0.000000   \n",
       "50%      0.009766    0.011719    0.025391    0.013672    0.007812    0.015625   \n",
       "75%      0.025391    0.041016    0.044922    0.029297    0.017578    0.056153   \n",
       "max      0.087891    0.205080    0.156250    0.169920    0.111330    0.310550   \n",
       "\n",
       "          margin7     margin8     margin9    margin10     ...       texture55  \\\n",
       "count  990.000000  990.000000  990.000000  990.000000     ...      990.000000   \n",
       "mean     0.019202    0.001083    0.007167    0.018639     ...        0.036501   \n",
       "std      0.017511    0.002743    0.008933    0.016071     ...        0.063403   \n",
       "min      0.000000    0.000000    0.000000    0.000000     ...        0.000000   \n",
       "25%      0.005859    0.000000    0.001953    0.005859     ...        0.000000   \n",
       "50%      0.015625    0.000000    0.005859    0.015625     ...        0.004883   \n",
       "75%      0.029297    0.000000    0.007812    0.027344     ...        0.043701   \n",
       "max      0.091797    0.031250    0.076172    0.097656     ...        0.429690   \n",
       "\n",
       "        texture56   texture57   texture58   texture59   texture60   texture61  \\\n",
       "count  990.000000  990.000000  990.000000  990.000000  990.000000  990.000000   \n",
       "mean     0.005024    0.015944    0.011586    0.016108    0.014017    0.002688   \n",
       "std      0.019321    0.023214    0.025040    0.015335    0.060151    0.011415   \n",
       "min      0.000000    0.000000    0.000000    0.000000    0.000000    0.000000   \n",
       "25%      0.000000    0.000977    0.000000    0.004883    0.000000    0.000000   \n",
       "50%      0.000000    0.005859    0.000977    0.012695    0.000000    0.000000   \n",
       "75%      0.000000    0.022217    0.009766    0.021484    0.000000    0.000000   \n",
       "max      0.202150    0.172850    0.200200    0.106450    0.578130    0.151370   \n",
       "\n",
       "        texture62   texture63   texture64  \n",
       "count  990.000000  990.000000  990.000000  \n",
       "mean     0.020291    0.008989    0.019420  \n",
       "std      0.039040    0.013791    0.022768  \n",
       "min      0.000000    0.000000    0.000000  \n",
       "25%      0.000000    0.000000    0.000977  \n",
       "50%      0.003906    0.002930    0.011719  \n",
       "75%      0.023438    0.012695    0.029297  \n",
       "max      0.375980    0.086914    0.141600  \n",
       "\n",
       "[8 rows x 192 columns]"
      ]
     },
     "execution_count": 8,
     "metadata": {},
     "output_type": "execute_result"
    }
   ],
   "source": [
    "train.describe()"
   ]
  },
  {
   "cell_type": "markdown",
   "metadata": {
    "slideshow": {
     "slide_type": "slide"
    }
   },
   "source": [
    "#### Correlation map"
   ]
  },
  {
   "cell_type": "code",
   "execution_count": 9,
   "metadata": {
    "slideshow": {
     "slide_type": "skip"
    }
   },
   "outputs": [],
   "source": [
    "corr = train.corr()\n",
    "# Generate a mask for the upper triangle\n",
    "mask = np.zeros_like(corr, dtype=np.bool)\n",
    "mask[np.triu_indices_from(mask)] = True\n"
   ]
  },
  {
   "cell_type": "code",
   "execution_count": 10,
   "metadata": {
    "slideshow": {
     "slide_type": "subslide"
    }
   },
   "outputs": [
    {
     "data": {
      "text/plain": [
       "<matplotlib.axes._subplots.AxesSubplot at 0x7f9b51e6e080>"
      ]
     },
     "execution_count": 10,
     "metadata": {},
     "output_type": "execute_result"
    },
    {
     "data": {
      "image/png": "[encoded data removed]",
      "text/plain": [
       "<Figure size 792x648 with 2 Axes>"
      ]
     },
     "metadata": {},
     "output_type": "display_data"
    }
   ],
   "source": [
    "f, ax = plt.subplots(figsize=(11, 9))\n",
    "cmap = sns.diverging_palette(220, 10, as_cmap=True)\n",
    "sns.heatmap(corr, mask=mask, cmap=cmap, vmax=.3,\n",
    "            square=True, xticklabels=5, yticklabels=5,\n",
    "            linewidths=.5, cbar_kws={\"shrink\": .5}, ax=ax)"
   ]
  },
  {
   "cell_type": "markdown",
   "metadata": {
    "slideshow": {
     "slide_type": "slide"
    }
   },
   "source": [
    "# Entrainement rapide d'une régression logisitique"
   ]
  },
  {
   "cell_type": "code",
   "execution_count": 11,
   "metadata": {
    "slideshow": {
     "slide_type": "subslide"
    }
   },
   "outputs": [
    {
     "name": "stdout",
     "output_type": "stream",
     "text": [
      "Time elapsed : 3.38 seconds\n"
     ]
    }
   ],
   "source": [
    "t = time.time()\n",
    "warnings.filterwarnings(\"ignore\", category=FutureWarning) # Some iterations are not convering because of not really realistic combinations of penalty\n",
    "clf = LogisticRegression()\n",
    "clf.fit(X_num_tr, y_tr)\n",
    "print('Time elapsed :', round(time.time() - t,2), 'seconds')"
   ]
  },
  {
   "cell_type": "code",
   "execution_count": 12,
   "metadata": {
    "slideshow": {
     "slide_type": "subslide"
    }
   },
   "outputs": [
    {
     "name": "stdout",
     "output_type": "stream",
     "text": [
      "Loss cross entropy : -4.976226812466664e-08\n",
      "Précision : 0.9731543624161074\n"
     ]
    }
   ],
   "source": [
    "y_pred_val = clf.predict(X_num_val)\n",
    "print('Loss cross entropy :', cross_entropy(y_pred_val, y_val))\n",
    "print('Précision :', accuracy_score(y_val, y_pred_val))"
   ]
  },
  {
   "cell_type": "code",
   "execution_count": 13,
   "metadata": {
    "slideshow": {
     "slide_type": "fragment"
    }
   },
   "outputs": [
    {
     "name": "stdout",
     "output_type": "stream",
     "text": [
      "Time elapsed : 534.24 seconds\n"
     ]
    }
   ],
   "source": [
    "t = time.time()\n",
    "warnings.filterwarnings(\"ignore\", category=sklearn.exceptions.ConvergenceWarning) # Some iterations are not convering because of not really realistic combinations of penalty\n",
    "clf = LogisticRegressionCV(Cs = np.logspace(-4, 4, num=10), cv=3, penalty = 'elasticnet', solver='saga', max_iter=200, l1_ratios=np.linspace(0, 1, num=10), n_jobs=30)\n",
    "clf.fit(X_num_tr, y_tr)\n",
    "print('Time elapsed :', round(time.time() - t,2), 'seconds')"
   ]
  },
  {
   "cell_type": "code",
   "execution_count": 14,
   "metadata": {
    "slideshow": {
     "slide_type": "subslide"
    }
   },
   "outputs": [
    {
     "name": "stdout",
     "output_type": "stream",
     "text": [
      "Loss cross entropy : -4.976226812466664e-08\n",
      "Précision : 0.9865771812080537\n"
     ]
    }
   ],
   "source": [
    "y_pred_val = clf.predict(X_num_val)\n",
    "print('Loss cross entropy :', cross_entropy(y_pred_val, y_val))\n",
    "print('Précision :', accuracy_score(y_val, y_pred_val))"
   ]
  },
  {
   "cell_type": "code",
   "execution_count": 15,
   "metadata": {
    "slideshow": {
     "slide_type": "subslide"
    }
   },
   "outputs": [],
   "source": [
    "f = open('weights/RegLog.pckl', 'wb')\n",
    "pickle.dump(clf, f)\n",
    "f.close()"
   ]
  },
  {
   "cell_type": "code",
   "execution_count": 16,
   "metadata": {
    "slideshow": {
     "slide_type": "subslide"
    }
   },
   "outputs": [],
   "source": [
    "f = open('weights/RegLog.pckl', 'rb')\n",
    "clf = pickle.load(f)\n",
    "f.close()"
   ]
  },
  {
   "cell_type": "markdown",
   "metadata": {
    "slideshow": {
     "slide_type": "subslide"
    }
   },
   "source": [
    "C'est bien et explicatif mais sans doute que l'on peut faire mieux en utilisant aussi les images !!"
   ]
  },
  {
   "cell_type": "markdown",
   "metadata": {
    "slideshow": {
     "slide_type": "slide"
    }
   },
   "source": [
    "## Visualisation de quelques images"
   ]
  },
  {
   "cell_type": "code",
   "execution_count": 17,
   "metadata": {
    "slideshow": {
     "slide_type": "subslide"
    }
   },
   "outputs": [
    {
     "data": {
      "image/png": "[encoded data removed]",
      "text/plain": [
       "<Figure size 2160x1080 with 4 Axes>"
      ]
     },
     "metadata": {},
     "output_type": "display_data"
    }
   ],
   "source": [
    "plt.figure(figsize=(30,15))\n",
    "\n",
    "for i in range(4):\n",
    "    plt.subplot(2,2,i+1)\n",
    "    plt.imshow(X_img_tr[i].reshape((128,128)), 'gray')\n",
    "    plt.title('Label de l\\'image : ' + str(y_tr[i]))\n",
    "    "
   ]
  },
  {
   "cell_type": "code",
   "execution_count": 18,
   "metadata": {
    "slideshow": {
     "slide_type": "subslide"
    }
   },
   "outputs": [
    {
     "name": "stdout",
     "output_type": "stream",
     "text": [
      "Nombre d'images d'entrainement : 841.\n"
     ]
    }
   ],
   "source": [
    "print('Nombre d\\'images d\\'entrainement :% d.' %(len(X_img_tr)))"
   ]
  },
  {
   "cell_type": "markdown",
   "metadata": {
    "_cell_guid": "cc89019d-f83c-5be3-f2e2-dc51318f9a76",
    "slideshow": {
     "slide_type": "slide"
    }
   },
   "source": [
    "# Data Augmentation\n",
    "\n",
    "On va utiliser un truc, classique avec les CNN, pour agrandir notre jeu de donnéres et améliorer la robustesse de notre classifieur.\n",
    "\n",
    "On va faire des rotations, des retournements horizontaux et verticaux, des zooms aléatoires, etc... Avec des images de couleur on peut aussi jouer sur le contraste, correction gamma etc..\n",
    "\n",
    "\n",
    "**NOTE:** Ce n'est pas non plus magique vu qu'on ajoute aucune information extérieure."
   ]
  },
  {
   "cell_type": "code",
   "execution_count": 19,
   "metadata": {
    "slideshow": {
     "slide_type": "skip"
    }
   },
   "outputs": [],
   "source": [
    "from keras.preprocessing.image import ImageDataGenerator, NumpyArrayIterator, array_to_img\n",
    "\n",
    "# Une toute petite modifs pour toujours avoir accès aux indices des images\n",
    "class ImageDataGenerator2(ImageDataGenerator):\n",
    "    def flow(self, x, y=None, batch_size=32, shuffle=True, seed=None,\n",
    "             save_to_dir=None, save_prefix='', save_format='jpeg'):\n",
    "        return NumpyArrayIterator2(\n",
    "            x, y, self,\n",
    "            batch_size=batch_size, shuffle=shuffle, seed=seed,\n",
    "            save_to_dir=save_to_dir, save_prefix=save_prefix, save_format=save_format)\n",
    "\n",
    "\n",
    "class NumpyArrayIterator2(NumpyArrayIterator):\n",
    "    def next(self):\n",
    "        # for python 2.x.\n",
    "        # Keeps under lock only the mechanism which advances\n",
    "        # the indexing of each batch\n",
    "        # see http://anandology.com/blog/using-iterators-and-generators/\n",
    "        with self.lock:\n",
    "            # We changed index_array to self.index_array\n",
    "            self.index_array, current_index, current_batch_size = next(self.index_generator)\n",
    "        # The transformation of images is not under thread lock so it can be done in parallel\n",
    "        batch_x = np.zeros(tuple([current_batch_size] + list(self.x.shape)[1:]))\n",
    "        for i, j in enumerate(self.index_array):\n",
    "            x = self.x[j]\n",
    "            x = self.image_data_generator.random_transform(x.astype('float32'))\n",
    "            x = self.image_data_generator.standardize(x)\n",
    "            batch_x[i] = x\n",
    "        if self.save_to_dir:\n",
    "            for i in range(current_batch_size):\n",
    "                img = array_to_img(batch_x[i], self.dim_ordering, scale=True)\n",
    "                fname = '{prefix}_{index}_{hash}.{format}'.format(prefix=self.save_prefix,\n",
    "                                                                  index=current_index + i,\n",
    "                                                                  hash=np.random.randint(1e4),\n",
    "                                                                  format=self.save_format)\n",
    "                img.save(os.path.join(self.save_to_dir, fname))\n",
    "        if self.y is None:\n",
    "            return batch_x\n",
    "        batch_y = self.y[self.index_array]\n",
    "        return batch_x, batch_y"
   ]
  },
  {
   "cell_type": "code",
   "execution_count": 20,
   "metadata": {
    "_cell_guid": "93d3a473-43bf-038c-2569-a5d2d85b61a6",
    "slideshow": {
     "slide_type": "subslide"
    }
   },
   "outputs": [
    {
     "name": "stdout",
     "output_type": "stream",
     "text": [
      "Creating Data Augmenter...\n",
      "Finished making data augmenter...\n"
     ]
    }
   ],
   "source": [
    "print('Creating Data Augmenter...')\n",
    "imgen = ImageDataGenerator2(\n",
    "    rotation_range=20,\n",
    "    zoom_range=0.2,\n",
    "    width_shift_range=0.2,\n",
    "    height_shift_range=0.2,\n",
    "    horizontal_flip=True,\n",
    "    vertical_flip=True,\n",
    "    shear_range=0.2,\n",
    "    fill_mode='nearest')\n",
    "imgen_train = imgen.flow(X_img_tr, y_tr_cat, seed=42)\n",
    "print('Finished making data augmenter...')"
   ]
  },
  {
   "cell_type": "markdown",
   "metadata": {
    "_cell_guid": "38d9594b-3efc-e653-7746-cc8100773f43",
    "slideshow": {
     "slide_type": "slide"
    }
   },
   "source": [
    "# Combinaisons des features du CNN et des features extraites\n",
    "\n",
    "Ca y est toutes nos données sont prêtes, on va pouvoir passer au modèle.\n",
    "\n",
    "## Keras Functional API\n",
    "\n",
    "Il existe ausi une ```Keras's Sequential API```, encore plus simple mais nous ne pouvons pas l'utiliser ici à cause de cette combinaison entre réseau CNN et ajout des features pré-extraites."
   ]
  },
  {
   "cell_type": "code",
   "execution_count": 21,
   "metadata": {
    "slideshow": {
     "slide_type": "skip"
    }
   },
   "outputs": [],
   "source": [
    "from keras.models import Model\n",
    "from keras.layers import Dense, Dropout, Activation, Conv2D, MaxPooling2D, Flatten, Input, concatenate, LeakyReLU\n",
    "from keras.layers.normalization import BatchNormalization"
   ]
  },
  {
   "cell_type": "code",
   "execution_count": 22,
   "metadata": {
    "_cell_guid": "a7a75734-2306-d300-c4ac-f4b910aecf84",
    "slideshow": {
     "slide_type": "subslide"
    }
   },
   "outputs": [],
   "source": [
    "def combined_model():\n",
    "    \n",
    "    image = Input(shape=(128, 128, 1), name='image')\n",
    "    x = Conv2D(8, (5, 5), input_shape=(128, 128, 1), padding='same')(image)\n",
    "    x = (Activation('relu'))(x)\n",
    "    x = (Dropout(.2))(x)\n",
    "    x = (MaxPooling2D(pool_size=(2, 2), strides=(2, 2)))(x)\n",
    "\n",
    "    x = (Conv2D(32, (5, 5), padding='same'))(x)\n",
    "    x = (Activation('relu'))(x)\n",
    "    x = (Dropout(.2))(x)\n",
    "    x = (MaxPooling2D(pool_size=(2, 2), strides=(2, 2)))(x)\n",
    "\n",
    "    x = Flatten()(x)\n",
    "    numerical = Input(shape=(192,), name='numerical')\n",
    "    # Concatenate the output of our convnet with our pre-extracted feature input\n",
    "    concatenated = concatenate([x, numerical])\n",
    "\n",
    "    x = Dense(100, activation='relu')(concatenated)\n",
    "    x = Dropout(.2)(x)\n",
    "\n",
    "    out = Dense(99, activation='softmax')(x)\n",
    "    model = Model(inputs=[image, numerical], outputs=out)\n",
    "    model.compile(loss='categorical_crossentropy', optimizer='adam', metrics=['accuracy']) \n",
    "    \n",
    "    return model"
   ]
  },
  {
   "cell_type": "code",
   "execution_count": 23,
   "metadata": {
    "slideshow": {
     "slide_type": "subslide"
    }
   },
   "outputs": [
    {
     "name": "stdout",
     "output_type": "stream",
     "text": [
      "____________________________________________________________________________________________________\n",
      "Layer (type)                     Output Shape          Param #     Connected to                     \n",
      "====================================================================================================\n",
      "image (InputLayer)               (None, 128, 128, 1)   0                                            \n",
      "____________________________________________________________________________________________________\n",
      "conv2d_1 (Conv2D)                (None, 128, 128, 8)   208         image[0][0]                      \n",
      "____________________________________________________________________________________________________\n",
      "activation_1 (Activation)        (None, 128, 128, 8)   0           conv2d_1[0][0]                   \n",
      "____________________________________________________________________________________________________\n",
      "dropout_1 (Dropout)              (None, 128, 128, 8)   0           activation_1[0][0]               \n",
      "____________________________________________________________________________________________________\n",
      "max_pooling2d_1 (MaxPooling2D)   (None, 64, 64, 8)     0           dropout_1[0][0]                  \n",
      "____________________________________________________________________________________________________\n",
      "conv2d_2 (Conv2D)                (None, 64, 64, 32)    6432        max_pooling2d_1[0][0]            \n",
      "____________________________________________________________________________________________________\n",
      "activation_2 (Activation)        (None, 64, 64, 32)    0           conv2d_2[0][0]                   \n",
      "____________________________________________________________________________________________________\n",
      "dropout_2 (Dropout)              (None, 64, 64, 32)    0           activation_2[0][0]               \n",
      "____________________________________________________________________________________________________\n",
      "max_pooling2d_2 (MaxPooling2D)   (None, 32, 32, 32)    0           dropout_2[0][0]                  \n",
      "____________________________________________________________________________________________________\n",
      "flatten_1 (Flatten)              (None, 32768)         0           max_pooling2d_2[0][0]            \n",
      "____________________________________________________________________________________________________\n",
      "numerical (InputLayer)           (None, 192)           0                                            \n",
      "____________________________________________________________________________________________________\n",
      "concatenate_1 (Concatenate)      (None, 32960)         0           flatten_1[0][0]                  \n",
      "                                                                   numerical[0][0]                  \n",
      "____________________________________________________________________________________________________\n",
      "dense_1 (Dense)                  (None, 100)           3296100     concatenate_1[0][0]              \n",
      "____________________________________________________________________________________________________\n",
      "dropout_3 (Dropout)              (None, 100)           0           dense_1[0][0]                    \n",
      "____________________________________________________________________________________________________\n",
      "dense_2 (Dense)                  (None, 99)            9999        dropout_3[0][0]                  \n",
      "====================================================================================================\n",
      "Total params: 3,312,739\n",
      "Trainable params: 3,312,739\n",
      "Non-trainable params: 0\n",
      "____________________________________________________________________________________________________\n"
     ]
    }
   ],
   "source": [
    "model = combined_model()\n",
    "model.summary()"
   ]
  },
  {
   "cell_type": "markdown",
   "metadata": {
    "_cell_guid": "89ff2bfa-f039-78c7-dddc-18f1551ba182",
    "slideshow": {
     "slide_type": "subslide"
    }
   },
   "source": [
    "Pour que ça tourne vite il faut faire tourner sur GPU !"
   ]
  },
  {
   "cell_type": "code",
   "execution_count": 24,
   "metadata": {
    "slideshow": {
     "slide_type": "subslide"
    }
   },
   "outputs": [],
   "source": [
    "from keras.utils import plot_model\n",
    "plot_model(model, to_file='files/model_plot.png', show_shapes=True, show_layer_names=True)"
   ]
  },
  {
   "cell_type": "markdown",
   "metadata": {
    "slideshow": {
     "slide_type": "skip"
    }
   },
   "source": [
    "<img src=\"files/model_plot.png\" alt=\"drawing\" width=\"500\" >"
   ]
  },
  {
   "cell_type": "code",
   "execution_count": 25,
   "metadata": {
    "slideshow": {
     "slide_type": "skip"
    }
   },
   "outputs": [],
   "source": [
    "from keras.callbacks import ModelCheckpoint, TensorBoard\n",
    "from keras.models import load_model\n",
    "\n",
    "\n",
    "def combined_generator(imgen, X):\n",
    "    \"\"\"\n",
    "    A generator to train our keras neural network. It\n",
    "    takes the image augmenter generator and the array\n",
    "    of the pre-extracted features.\n",
    "    It yields a minibatch and will run indefinitely\n",
    "    \"\"\"\n",
    "    while True:\n",
    "        for i in range(X.shape[0]):\n",
    "            # Get the image batch and labels\n",
    "            batch_img, batch_y = next(imgen)\n",
    "            # We can now access the indicies\n",
    "            # of the images that imgen gave us.\n",
    "            x = X[imgen.index_array]\n",
    "            yield [batch_img, x], batch_y\n",
    "            \n",
    "batch_size = 128\n",
    "epochs = 50"
   ]
  },
  {
   "cell_type": "code",
   "execution_count": 26,
   "metadata": {
    "_cell_guid": "ace7901a-a7eb-9e45-9cc7-e8cc5a9ac1f9",
    "slideshow": {
     "slide_type": "slide"
    }
   },
   "outputs": [
    {
     "name": "stdout",
     "output_type": "stream",
     "text": [
      "Epoch 1/50\n",
      "7/7 [==============================] - 3s - loss: 4.7922 - acc: 0.0134 - val_loss: 4.5294 - val_acc: 0.0604\n",
      "Epoch 2/50\n",
      "7/7 [==============================] - 2s - loss: 4.4993 - acc: 0.0714 - val_loss: 4.3921 - val_acc: 0.1544\n",
      "Epoch 3/50\n",
      "7/7 [==============================] - 2s - loss: 4.3459 - acc: 0.1071 - val_loss: 4.1990 - val_acc: 0.1678\n",
      "Epoch 4/50\n",
      "7/7 [==============================] - 2s - loss: 4.2154 - acc: 0.1096 - val_loss: 3.9726 - val_acc: 0.2685\n",
      "Epoch 5/50\n",
      "7/7 [==============================] - 2s - loss: 3.8082 - acc: 0.2679 - val_loss: 3.6570 - val_acc: 0.2953\n",
      "Epoch 6/50\n",
      "7/7 [==============================] - 2s - loss: 3.6255 - acc: 0.2054 - val_loss: 3.3958 - val_acc: 0.3826\n",
      "Epoch 7/50\n",
      "7/7 [==============================] - 2s - loss: 3.2309 - acc: 0.3348 - val_loss: 3.0281 - val_acc: 0.4161\n",
      "Epoch 8/50\n",
      "7/7 [==============================] - 2s - loss: 3.0134 - acc: 0.3524 - val_loss: 2.7002 - val_acc: 0.5906\n",
      "Epoch 9/50\n",
      "7/7 [==============================] - 2s - loss: 2.6414 - acc: 0.4464 - val_loss: 2.5139 - val_acc: 0.6510\n",
      "Epoch 10/50\n",
      "7/7 [==============================] - 2s - loss: 2.3679 - acc: 0.4911 - val_loss: 2.1298 - val_acc: 0.7114\n",
      "Epoch 11/50\n",
      "7/7 [==============================] - 2s - loss: 2.0286 - acc: 0.6250 - val_loss: 1.8708 - val_acc: 0.7852\n",
      "Epoch 12/50\n",
      "7/7 [==============================] - 2s - loss: 1.7696 - acc: 0.6803 - val_loss: 1.6398 - val_acc: 0.8322\n",
      "Epoch 13/50\n",
      "7/7 [==============================] - 2s - loss: 1.5771 - acc: 0.7009 - val_loss: 1.4812 - val_acc: 0.8523\n",
      "Epoch 14/50\n",
      "7/7 [==============================] - 2s - loss: 1.4238 - acc: 0.7768 - val_loss: 1.2679 - val_acc: 0.8389\n",
      "Epoch 15/50\n",
      "7/7 [==============================] - 2s - loss: 1.2462 - acc: 0.7902 - val_loss: 1.2103 - val_acc: 0.8792\n",
      "Epoch 16/50\n",
      "7/7 [==============================] - 2s - loss: 1.2004 - acc: 0.7129 - val_loss: 0.9805 - val_acc: 0.9060\n",
      "Epoch 17/50\n",
      "7/7 [==============================] - 2s - loss: 1.0450 - acc: 0.8080 - val_loss: 0.9416 - val_acc: 0.9396\n",
      "Epoch 18/50\n",
      "7/7 [==============================] - 2s - loss: 0.9344 - acc: 0.8661 - val_loss: 0.8538 - val_acc: 0.9463\n",
      "Epoch 19/50\n",
      "7/7 [==============================] - 2s - loss: 0.8161 - acc: 0.8482 - val_loss: 0.7642 - val_acc: 0.9530\n",
      "Epoch 20/50\n",
      "7/7 [==============================] - 2s - loss: 0.7789 - acc: 0.8642 - val_loss: 0.6700 - val_acc: 0.9396\n",
      "Epoch 21/50\n",
      "7/7 [==============================] - 2s - loss: 0.6245 - acc: 0.8839 - val_loss: 0.6394 - val_acc: 0.9262\n",
      "Epoch 22/50\n",
      "7/7 [==============================] - 2s - loss: 0.6922 - acc: 0.8571 - val_loss: 0.5840 - val_acc: 0.9463\n",
      "Epoch 23/50\n",
      "7/7 [==============================] - 2s - loss: 0.6807 - acc: 0.8705 - val_loss: 0.5557 - val_acc: 0.9530\n",
      "Epoch 24/50\n",
      "7/7 [==============================] - 2s - loss: 0.5348 - acc: 0.9130 - val_loss: 0.5055 - val_acc: 0.9396\n",
      "Epoch 25/50\n",
      "7/7 [==============================] - 2s - loss: 0.4969 - acc: 0.9241 - val_loss: 0.5246 - val_acc: 0.9530\n",
      "Epoch 26/50\n",
      "7/7 [==============================] - 2s - loss: 0.5345 - acc: 0.9107 - val_loss: 0.4434 - val_acc: 0.9597\n",
      "Epoch 27/50\n",
      "7/7 [==============================] - 2s - loss: 0.6305 - acc: 0.8242 - val_loss: 0.4436 - val_acc: 0.9664\n",
      "Epoch 28/50\n",
      "7/7 [==============================] - 2s - loss: 0.4488 - acc: 0.9018 - val_loss: 0.3930 - val_acc: 0.9664\n",
      "Epoch 29/50\n",
      "7/7 [==============================] - 2s - loss: 0.3734 - acc: 0.9464 - val_loss: 0.4096 - val_acc: 0.9396\n",
      "Epoch 30/50\n",
      "7/7 [==============================] - 2s - loss: 0.4251 - acc: 0.9286 - val_loss: 0.3380 - val_acc: 0.9866\n",
      "Epoch 31/50\n",
      "7/7 [==============================] - 2s - loss: 0.3852 - acc: 0.9176 - val_loss: 0.3643 - val_acc: 0.9664\n",
      "Epoch 32/50\n",
      "7/7 [==============================] - 2s - loss: 0.3393 - acc: 0.9464 - val_loss: 0.3464 - val_acc: 0.9664\n",
      "Epoch 33/50\n",
      "7/7 [==============================] - 2s - loss: 0.3156 - acc: 0.9464 - val_loss: 0.3179 - val_acc: 0.9799\n",
      "Epoch 34/50\n",
      "7/7 [==============================] - 2s - loss: 0.3403 - acc: 0.9509 - val_loss: 0.3087 - val_acc: 0.9664\n",
      "Epoch 35/50\n",
      "7/7 [==============================] - 2s - loss: 0.2998 - acc: 0.9312 - val_loss: 0.3232 - val_acc: 0.9597\n",
      "Epoch 36/50\n",
      "7/7 [==============================] - 2s - loss: 0.2712 - acc: 0.9598 - val_loss: 0.2596 - val_acc: 0.9732\n",
      "Epoch 37/50\n",
      "7/7 [==============================] - 2s - loss: 0.3331 - acc: 0.9241 - val_loss: 0.3021 - val_acc: 0.9597\n",
      "Epoch 38/50\n",
      "7/7 [==============================] - 2s - loss: 0.2584 - acc: 0.9688 - val_loss: 0.2465 - val_acc: 0.9732\n",
      "Epoch 39/50\n",
      "7/7 [==============================] - 2s - loss: 0.2976 - acc: 0.9547 - val_loss: 0.2265 - val_acc: 0.9732\n",
      "Epoch 40/50\n",
      "7/7 [==============================] - 2s - loss: 0.2624 - acc: 0.9598 - val_loss: 0.2696 - val_acc: 0.9597\n",
      "Epoch 41/50\n",
      "7/7 [==============================] - 2s - loss: 0.2349 - acc: 0.9598 - val_loss: 0.2323 - val_acc: 0.9664\n",
      "Epoch 42/50\n",
      "7/7 [==============================] - 2s - loss: 0.2439 - acc: 0.9688 - val_loss: 0.2264 - val_acc: 0.9732\n",
      "Epoch 43/50\n",
      "7/7 [==============================] - 2s - loss: 0.2475 - acc: 0.9719 - val_loss: 0.2236 - val_acc: 0.9732\n",
      "Epoch 44/50\n",
      "7/7 [==============================] - 2s - loss: 0.2160 - acc: 0.9732 - val_loss: 0.2230 - val_acc: 0.9732\n",
      "Epoch 45/50\n",
      "7/7 [==============================] - 2s - loss: 0.1916 - acc: 0.9821 - val_loss: 0.2235 - val_acc: 0.9664\n",
      "Epoch 46/50\n",
      "7/7 [==============================] - 2s - loss: 0.2529 - acc: 0.9554 - val_loss: 0.2196 - val_acc: 0.9597\n",
      "Epoch 47/50\n",
      "7/7 [==============================] - 2s - loss: 0.1934 - acc: 0.9728 - val_loss: 0.1741 - val_acc: 0.9866\n",
      "Epoch 48/50\n",
      "7/7 [==============================] - 2s - loss: 0.1795 - acc: 0.9821 - val_loss: 0.1778 - val_acc: 0.9933\n",
      "Epoch 49/50\n",
      "7/7 [==============================] - 2s - loss: 0.1751 - acc: 0.9732 - val_loss: 0.1955 - val_acc: 0.9732\n",
      "Epoch 50/50\n",
      "7/7 [==============================] - 2s - loss: 0.1795 - acc: 0.9688 - val_loss: 0.1573 - val_acc: 0.9933\n",
      "CPU times: user 7min 16s, sys: 10.8 s, total: 7min 27s\n",
      "Wall time: 1min 55s\n"
     ]
    }
   ],
   "source": [
    "%%time\n",
    "best_model_file = \"weights/leafnet.h5\"\n",
    "best_model = ModelCheckpoint(best_model_file, monitor='val_loss', verbose=0, save_best_only=True)\n",
    "tbCallBack = TensorBoard(log_dir='./graph', histogram_freq=1, write_graph=True, write_images=True)\n",
    "\n",
    "history = model.fit_generator(combined_generator(imgen_train, X_num_tr),\n",
    "                              steps_per_epoch=np.ceil(X_num_tr.shape[0] / batch_size),\n",
    "                              epochs=epochs,\n",
    "                              validation_data=([X_img_val, X_num_val], y_val_cat),\n",
    "                              verbose=1,\n",
    "                              callbacks=[best_model,tbCallBack ])"
   ]
  },
  {
   "cell_type": "code",
   "execution_count": 27,
   "metadata": {
    "slideshow": {
     "slide_type": "subslide"
    }
   },
   "outputs": [
    {
     "name": "stdout",
     "output_type": "stream",
     "text": [
      "Loss cross entropy : -4.976226812466664e-08\n",
      "Précision : 0.9932885906040269\n"
     ]
    }
   ],
   "source": [
    "y_pred_val = model.predict([X_img_val, X_num_val])\n",
    "y_pred_val = np.argmax(y_pred_val,axis=1)\n",
    "print('Loss cross entropy :', cross_entropy(y_pred_val, y_val))\n",
    "print('Précision :', accuracy_score(y_val, y_pred_val))"
   ]
  },
  {
   "cell_type": "markdown",
   "metadata": {
    "_cell_guid": "5c93a6aa-81b0-b87b-d290-d17c53b4a56c",
    "slideshow": {
     "slide_type": "slide"
    }
   },
   "source": [
    "# Visualisation\n",
    "\n",
    "Bon on peut quand même se demander ce qui a été appris par le CNN et que ces features ont un sens ! On va donc visualiser quelques couches cachées.  \n",
    "On va donc prendre quelques images du set de validation, et on va les faire passer à travers le réseau pour visualiser les résultats de différents filtrages à l'intérieur du CNN pour voir quelles parties sont activées.  \n",
    "Dans notre architecture, il y a 8 filtres pour la première couche et 32 pour la seconde donc 40 images filtrées au total !"
   ]
  },
  {
   "cell_type": "code",
   "execution_count": 11,
   "metadata": {
    "slideshow": {
     "slide_type": "skip"
    }
   },
   "outputs": [],
   "source": [
    "import pandas as pd\n",
    "LABELS = sorted(pd.read_csv(os.path.join(root, 'data/train.csv')).species.unique())"
   ]
  },
  {
   "cell_type": "code",
   "execution_count": 28,
   "metadata": {
    "slideshow": {
     "slide_type": "skip"
    }
   },
   "outputs": [],
   "source": [
    "from math import sqrt\n",
    "\n",
    "import matplotlib.pyplot as plt\n",
    "from keras import backend as K\n",
    "\n",
    "NUM_LEAVES = 3\n",
    "model_fn = 'weights/leafnet.h5'\n",
    "# Function by gcalmettes from http://stackoverflow.com/questions/11159436/multiple-figures-in-a-single-window\n",
    "def plot_figures(figures, nrows = 1, ncols=1, titles=False):\n",
    "    \"\"\"Plot a dictionary of figures.\n",
    "\n",
    "    Parameters\n",
    "    ----------\n",
    "    figures : <title, figure> dictionary\n",
    "    ncols : number of columns of subplots wanted in the display\n",
    "    nrows : number of rows of subplots wanted in the figure\n",
    "    \"\"\"\n",
    "    plt.figure(figsize=(30,15))\n",
    "    fig, axeslist = plt.subplots(ncols=ncols, nrows=nrows)\n",
    "    for ind,title in enumerate(sorted(figures.keys(), key=lambda s: int(s[3:]))):\n",
    "        axeslist.ravel()[ind].imshow(figures[title], cmap=plt.gray())\n",
    "        if titles:\n",
    "            axeslist.ravel()[ind].set_title(title)\n",
    "\n",
    "    for ind in range(nrows*ncols):\n",
    "        axeslist.ravel()[ind].set_axis_off()\n",
    "\n",
    "    if titles:\n",
    "        plt.tight_layout()\n",
    "    plt.show()\n",
    "\n",
    "\n",
    "def get_dim(num):\n",
    "    \"\"\"\n",
    "    Simple function to get the dimensions of a square-ish shape for plotting\n",
    "    num images\n",
    "    \"\"\"\n",
    "\n",
    "    s = sqrt(num)\n",
    "    if round(s) < s:\n",
    "        return (int(s), int(s)+1)\n",
    "    else:\n",
    "        return (int(s)+1, int(s)+1)"
   ]
  },
  {
   "cell_type": "code",
   "execution_count": 29,
   "metadata": {
    "slideshow": {
     "slide_type": "skip"
    }
   },
   "outputs": [],
   "source": [
    "# Load the best model\n",
    "model = load_model(model_fn)\n",
    "\n",
    "# Get the convolutional layers\n",
    "conv_layers = [layer for layer in model.layers if isinstance(layer, MaxPooling2D)]\n",
    "\n",
    "# Pick random images to visualize\n",
    "imgs_to_visualize = np.random.choice(np.arange(0, len(X_img_val)), NUM_LEAVES)\n",
    "\n",
    "# Use a keras function to extract the conv layer data\n",
    "convout_func = K.function([model.layers[0].input, K.learning_phase()], [layer.output for layer in conv_layers])\n",
    "conv_imgs_filts = convout_func([X_img_val[imgs_to_visualize], 0])\n",
    "# Also get the prediction so we know what we predicted\n",
    "predictions = model.predict([X_img_val[imgs_to_visualize], X_num_val[imgs_to_visualize]])\n",
    "imshow = plt.imshow #alias\n",
    "# Loop through each image disply relevant info"
   ]
  },
  {
   "cell_type": "code",
   "execution_count": 30,
   "metadata": {
    "slideshow": {
     "slide_type": "skip"
    }
   },
   "outputs": [],
   "source": [
    "def show_filtered(imgs_to_visualize, img_count):\n",
    "    img_to_visualize = imgs_to_visualize[img_count]\n",
    "    top3_ind = predictions[img_count].argsort()[-3:]\n",
    "    top3_species = np.array(LABELS)[top3_ind]\n",
    "    top3_preds = predictions[img_count][top3_ind]\n",
    "    actual = LABELS[y_val[img_to_visualize]]\n",
    "    print(\"Top 3 Predicitons:\")\n",
    "    for i in range(2, -1, -1):\n",
    "        print(\"\\t%s: %s\" % (top3_species[i], top3_preds[i]))\n",
    "    print(\"\\nActual: %s\" % actual)\n",
    "    for i, conv_imgs_filt in enumerate(conv_imgs_filts):\n",
    "        conv_img_filt = conv_imgs_filt[img_count]\n",
    "        print(\"Visualizing Convolutions Layer %d\" % i)\n",
    "        fig_dict = {'flt{0}'.format(i): conv_img_filt[:, :, i] for i in range(conv_img_filt.shape[-1])}\n",
    "        plot_figures(fig_dict, *get_dim(len(fig_dict)))\n",
    "    plt.figure(figsize=(15,7))\n",
    "    plt.title(\"Image used: #%d (digit=%d)\" % (img_to_visualize, y_val[img_to_visualize]))\n",
    "    imshow(X_img_val[img_to_visualize][:, :, 0], cmap='gray')\n",
    "    plt.tight_layout()"
   ]
  },
  {
   "cell_type": "code",
   "execution_count": 31,
   "metadata": {
    "slideshow": {
     "slide_type": "subslide"
    }
   },
   "outputs": [
    {
     "name": "stdout",
     "output_type": "stream",
     "text": [
      "Top 3 Predicitons:\n",
      "\tQuercus_Hartwissiana: 0.7982975\n",
      "\tQuercus_Canariensis: 0.046233166\n",
      "\tCeltis_Koraiensis: 0.034486573\n",
      "\n",
      "Actual: Quercus_Hartwissiana\n",
      "Visualizing Convolutions Layer 0\n"
     ]
    },
    {
     "data": {
      "text/plain": [
       "<Figure size 2160x1080 with 0 Axes>"
      ]
     },
     "metadata": {},
     "output_type": "display_data"
    },
    {
     "data": {
      "image/png": "[encoded data removed]",
      "text/plain": [
       "<Figure size 432x288 with 9 Axes>"
      ]
     },
     "metadata": {},
     "output_type": "display_data"
    },
    {
     "name": "stdout",
     "output_type": "stream",
     "text": [
      "Visualizing Convolutions Layer 1\n"
     ]
    },
    {
     "data": {
      "text/plain": [
       "<Figure size 2160x1080 with 0 Axes>"
      ]
     },
     "metadata": {},
     "output_type": "display_data"
    },
    {
     "data": {
      "image/png": "[encoded data removed]",
      "text/plain": [
       "<Figure size 432x288 with 36 Axes>"
      ]
     },
     "metadata": {},
     "output_type": "display_data"
    },
    {
     "data": {
      "image/png": "[encoded data removed]",
      "text/plain": [
       "<Figure size 1080x504 with 1 Axes>"
      ]
     },
     "metadata": {},
     "output_type": "display_data"
    }
   ],
   "source": [
    "show_filtered(imgs_to_visualize, 0)"
   ]
  },
  {
   "cell_type": "code",
   "execution_count": 32,
   "metadata": {
    "slideshow": {
     "slide_type": "subslide"
    }
   },
   "outputs": [
    {
     "name": "stdout",
     "output_type": "stream",
     "text": [
      "Top 3 Predicitons:\n",
      "\tFagus_Sylvatica: 0.48016998\n",
      "\tCercis_Siliquastrum: 0.32172352\n",
      "\tQuercus_Infectoria_sub: 0.064567514\n",
      "\n",
      "Actual: Fagus_Sylvatica\n",
      "Visualizing Convolutions Layer 0\n"
     ]
    },
    {
     "data": {
      "text/plain": [
       "<Figure size 2160x1080 with 0 Axes>"
      ]
     },
     "metadata": {},
     "output_type": "display_data"
    },
    {
     "data": {
      "image/png": "[encoded data removed]",
      "text/plain": [
       "<Figure size 432x288 with 9 Axes>"
      ]
     },
     "metadata": {},
     "output_type": "display_data"
    },
    {
     "name": "stdout",
     "output_type": "stream",
     "text": [
      "Visualizing Convolutions Layer 1\n"
     ]
    },
    {
     "data": {
      "text/plain": [
       "<Figure size 2160x1080 with 0 Axes>"
      ]
     },
     "metadata": {},
     "output_type": "display_data"
    },
    {
     "data": {
      "image/png": "[encoded data removed]",
      "text/plain": [
       "<Figure size 432x288 with 36 Axes>"
      ]
     },
     "metadata": {},
     "output_type": "display_data"
    },
    {
     "data": {
      "image/png": "[encoded data removed]",
      "text/plain": [
       "<Figure size 1080x504 with 1 Axes>"
      ]
     },
     "metadata": {},
     "output_type": "display_data"
    }
   ],
   "source": [
    "show_filtered(imgs_to_visualize, 1)"
   ]
  },
  {
   "cell_type": "code",
   "execution_count": 33,
   "metadata": {
    "slideshow": {
     "slide_type": "subslide"
    }
   },
   "outputs": [
    {
     "name": "stdout",
     "output_type": "stream",
     "text": [
      "Top 3 Predicitons:\n",
      "\tQuercus_Rhysophylla: 0.97699624\n",
      "\tCornus_Chinensis: 0.006621217\n",
      "\tQuercus_Ilex: 0.0035838485\n",
      "\n",
      "Actual: Quercus_Rhysophylla\n",
      "Visualizing Convolutions Layer 0\n"
     ]
    },
    {
     "data": {
      "text/plain": [
       "<Figure size 2160x1080 with 0 Axes>"
      ]
     },
     "metadata": {},
     "output_type": "display_data"
    },
    {
     "data": {
      "image/png": "[encoded data removed]",
      "text/plain": [
       "<Figure size 432x288 with 9 Axes>"
      ]
     },
     "metadata": {},
     "output_type": "display_data"
    },
    {
     "name": "stdout",
     "output_type": "stream",
     "text": [
      "Visualizing Convolutions Layer 1\n"
     ]
    },
    {
     "data": {
      "text/plain": [
       "<Figure size 2160x1080 with 0 Axes>"
      ]
     },
     "metadata": {},
     "output_type": "display_data"
    },
    {
     "data": {
      "image/png": "[encoded data removed]",
      "text/plain": [
       "<Figure size 432x288 with 36 Axes>"
      ]
     },
     "metadata": {},
     "output_type": "display_data"
    },
    {
     "data": {
      "image/png": "[encoded data removed]",
      "text/plain": [
       "<Figure size 1080x504 with 1 Axes>"
      ]
     },
     "metadata": {},
     "output_type": "display_data"
    }
   ],
   "source": [
    "show_filtered(imgs_to_visualize, 2)"
   ]
  },
  {
   "cell_type": "code",
   "execution_count": 34,
   "metadata": {
    "_cell_guid": "36464aad-bc82-924f-d19c-a11759c99685",
    "slideshow": {
     "slide_type": "skip"
    }
   },
   "outputs": [
    {
     "name": "stdout",
     "output_type": "stream",
     "text": [
      "Top 3 Predicitons:\n",
      "\tQuercus_Hartwissiana: 0.7982975\n",
      "\tQuercus_Canariensis: 0.046233166\n",
      "\tCeltis_Koraiensis: 0.034486573\n",
      "\n",
      "Actual: Quercus_Hartwissiana\n",
      "Visualizing Convolutions Layer 0\n"
     ]
    },
    {
     "data": {
      "image/png": "[encoded data removed]",
      "text/plain": [
       "<Figure size 1080x504 with 1 Axes>"
      ]
     },
     "metadata": {},
     "output_type": "display_data"
    },
    {
     "data": {
      "text/plain": [
       "<Figure size 2160x1080 with 0 Axes>"
      ]
     },
     "metadata": {},
     "output_type": "display_data"
    },
    {
     "data": {
      "image/png": "[encoded data removed]",
      "text/plain": [
       "<Figure size 432x288 with 9 Axes>"
      ]
     },
     "metadata": {},
     "output_type": "display_data"
    },
    {
     "name": "stdout",
     "output_type": "stream",
     "text": [
      "Visualizing Convolutions Layer 1\n"
     ]
    },
    {
     "data": {
      "text/plain": [
       "<Figure size 2160x1080 with 0 Axes>"
      ]
     },
     "metadata": {},
     "output_type": "display_data"
    },
    {
     "data": {
      "image/png": "[encoded data removed]",
      "text/plain": [
       "<Figure size 432x288 with 36 Axes>"
      ]
     },
     "metadata": {},
     "output_type": "display_data"
    },
    {
     "name": "stdout",
     "output_type": "stream",
     "text": [
      "Top 3 Predicitons:\n",
      "\tFagus_Sylvatica: 0.48016998\n",
      "\tCercis_Siliquastrum: 0.32172352\n",
      "\tQuercus_Infectoria_sub: 0.064567514\n",
      "\n",
      "Actual: Fagus_Sylvatica\n",
      "Visualizing Convolutions Layer 0\n"
     ]
    },
    {
     "data": {
      "image/png": "[encoded data removed]",
      "text/plain": [
       "<Figure size 1080x504 with 1 Axes>"
      ]
     },
     "metadata": {},
     "output_type": "display_data"
    },
    {
     "data": {
      "text/plain": [
       "<Figure size 2160x1080 with 0 Axes>"
      ]
     },
     "metadata": {},
     "output_type": "display_data"
    },
    {
     "data": {
      "image/png": "[encoded data removed]",
      "text/plain": [
       "<Figure size 432x288 with 9 Axes>"
      ]
     },
     "metadata": {},
     "output_type": "display_data"
    },
    {
     "name": "stdout",
     "output_type": "stream",
     "text": [
      "Visualizing Convolutions Layer 1\n"
     ]
    },
    {
     "data": {
      "text/plain": [
       "<Figure size 2160x1080 with 0 Axes>"
      ]
     },
     "metadata": {},
     "output_type": "display_data"
    },
    {
     "data": {
      "image/png": "[encoded data removed]",
      "text/plain": [
       "<Figure size 432x288 with 36 Axes>"
      ]
     },
     "metadata": {},
     "output_type": "display_data"
    },
    {
     "name": "stdout",
     "output_type": "stream",
     "text": [
      "Top 3 Predicitons:\n",
      "\tQuercus_Rhysophylla: 0.97699624\n",
      "\tCornus_Chinensis: 0.006621217\n",
      "\tQuercus_Ilex: 0.0035838485\n",
      "\n",
      "Actual: Quercus_Rhysophylla\n",
      "Visualizing Convolutions Layer 0\n"
     ]
    },
    {
     "data": {
      "image/png": "[encoded data removed]",
      "text/plain": [
       "<Figure size 1080x504 with 1 Axes>"
      ]
     },
     "metadata": {},
     "output_type": "display_data"
    },
    {
     "data": {
      "text/plain": [
       "<Figure size 2160x1080 with 0 Axes>"
      ]
     },
     "metadata": {},
     "output_type": "display_data"
    },
    {
     "data": {
      "image/png": "[encoded data removed]",
      "text/plain": [
       "<Figure size 432x288 with 9 Axes>"
      ]
     },
     "metadata": {},
     "output_type": "display_data"
    },
    {
     "name": "stdout",
     "output_type": "stream",
     "text": [
      "Visualizing Convolutions Layer 1\n"
     ]
    },
    {
     "data": {
      "text/plain": [
       "<Figure size 2160x1080 with 0 Axes>"
      ]
     },
     "metadata": {},
     "output_type": "display_data"
    },
    {
     "data": {
      "image/png": "[encoded data removed]",
      "text/plain": [
       "<Figure size 432x288 with 36 Axes>"
      ]
     },
     "metadata": {},
     "output_type": "display_data"
    }
   ],
   "source": [
    "for img_count, img_to_visualize in enumerate(imgs_to_visualize):\n",
    "    top3_ind = predictions[img_count].argsort()[-3:]\n",
    "    top3_species = np.array(LABELS)[top3_ind]\n",
    "    top3_preds = predictions[img_count][top3_ind]\n",
    "    actual = LABELS[y_val[img_to_visualize]]\n",
    "    print(\"Top 3 Predicitons:\")\n",
    "    for i in range(2, -1, -1):\n",
    "        print(\"\\t%s: %s\" % (top3_species[i], top3_preds[i]))\n",
    "    print(\"\\nActual: %s\" % actual)\n",
    "    plt.figure(figsize=(15,7))\n",
    "    plt.title(\"Image used: #%d (digit=%d)\" % (img_to_visualize, y_val[img_to_visualize]))\n",
    "    imshow(X_img_val[img_to_visualize][:, :, 0], cmap='gray')\n",
    "    plt.tight_layout()\n",
    "    for i, conv_imgs_filt in enumerate(conv_imgs_filts):\n",
    "        conv_img_filt = conv_imgs_filt[img_count]\n",
    "        print(\"Visualizing Convolutions Layer %d\" % i)\n",
    "        fig_dict = {'flt{0}'.format(i): conv_img_filt[:, :, i] for i in range(conv_img_filt.shape[-1])}\n",
    "        plot_figures(fig_dict, *get_dim(len(fig_dict)))"
   ]
  },
  {
   "cell_type": "code",
   "execution_count": 35,
   "metadata": {
    "slideshow": {
     "slide_type": "skip"
    }
   },
   "outputs": [],
   "source": [
    "del model"
   ]
  },
  {
   "cell_type": "markdown",
   "metadata": {
    "slideshow": {
     "slide_type": "slide"
    }
   },
   "source": [
    "# API avec Flask\n",
    "Web micro-framework en Python (utilisé par Pinterest et Linkedin d'après Wikipedia).  \n",
    "\n",
    "<img src=\"files/flask.png\" alt=\"drawing\" width=\"500\">  \n",
    "\n",
    "\n",
    "* Léger\n",
    "* Rapide\n",
    "* Facile d'utilisation  \n",
    "\n",
    "\n",
    "Ici on va faire seulement le back-end ! Du dev supplémentaire serait nécessaire pour rajouter un front-end."
   ]
  },
  {
   "cell_type": "code",
   "execution_count": 36,
   "metadata": {
    "slideshow": {
     "slide_type": "subslide"
    }
   },
   "outputs": [
    {
     "name": "stdout",
     "output_type": "stream",
     "text": [
      "nohup: les entrées sont ignorées et la sortie est ajoutée à 'nohup.out'\n",
      "^C\n"
     ]
    }
   ],
   "source": [
    "!cd api && nohup python3 deploy.py"
   ]
  },
  {
   "cell_type": "code",
   "execution_count": 9,
   "metadata": {
    "slideshow": {
     "slide_type": "subslide"
    }
   },
   "outputs": [
    {
     "name": "stdout",
     "output_type": "stream",
     "text": [
      "True\n",
      "CPU times: user 44 ms, sys: 8 ms, total: 52 ms\n",
      "Wall time: 84 ms\n"
     ]
    }
   ],
   "source": [
    "%%time\n",
    "import requests\n",
    "import json\n",
    "\n",
    "headers = {\"Content-Type\": \"application/json\"}\n",
    "payload = [X_img_val[93:94].tolist(), X_num_val[93:94].tolist()]\n",
    "\n",
    "r = requests.post(\"http://0.0.0.0:5000/predict\", json=payload, headers=headers)\n",
    "response = json.loads(r.text)\n",
    "print(response['success'])"
   ]
  },
  {
   "cell_type": "code",
   "execution_count": 12,
   "metadata": {
    "slideshow": {
     "slide_type": "subslide"
    }
   },
   "outputs": [
    {
     "name": "stdout",
     "output_type": "stream",
     "text": [
      "Top 3 Predicitons:\n",
      "\tTilia_Platyphyllos: 0.81717563\n",
      "\tCeltis_Koraiensis: 0.12848337\n",
      "\tPterocarya_Stenoptera: 0.010453341\n"
     ]
    }
   ],
   "source": [
    "response['prediction'] = response['prediction'].replace('[[','')\n",
    "response['prediction'] = response['prediction'].replace(']]','')\n",
    "predictions = np.array(response['prediction'].split(),dtype=float)\n",
    "top3_ind = predictions.argsort()[-3:]\n",
    "top3_species = np.array(LABELS)[top3_ind]\n",
    "top3_preds = predictions[top3_ind]\n",
    "# Display the top 3 predictions and the actual species\n",
    "print(\"Top 3 Predicitons:\")\n",
    "for i in range(2, -1, -1):\n",
    "    print(\"\\t%s: %s\" % (top3_species[i], top3_preds[i]))"
   ]
  }
 ],
 "metadata": {
  "_change_revision": 3,
  "_is_fork": false,
  "celltoolbar": "Slideshow",
  "kernelspec": {
   "display_name": "Python 3",
   "language": "python",
   "name": "python3"
  },
  "language_info": {
   "codemirror_mode": {
    "name": "ipython",
    "version": 3
   },
   "file_extension": ".py",
   "mimetype": "text/x-python",
   "name": "python",
   "nbconvert_exporter": "python",
   "pygments_lexer": "ipython3",
   "version": "3.5.2"
  }
 },
 "nbformat": 4,
 "nbformat_minor": 2
}
